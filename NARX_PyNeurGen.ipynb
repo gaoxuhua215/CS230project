{
 "cells": [
  {
   "cell_type": "code",
   "execution_count": null,
   "metadata": {},
   "outputs": [],
   "source": [
    "# NARX from library PyNeurGen\n",
    "# code for NARXRecurrent provided by: Copyright (C) 2012  Don Smiley  ds@sidorof.com"
   ]
  },
  {
   "cell_type": "code",
   "execution_count": null,
   "metadata": {},
   "outputs": [],
   "source": [
    "from pyneurgen.neuralnet import NeuralNet\n",
    "from pyneurgen.nodes import CopyNode, Connection\n",
    "from pyneurgen.nodes import NODE_OUTPUT, NODE_HIDDEN, NODE_INPUT\n",
    "from pyneurgen.nodes import NODE_BIAS, ACTIVATION_LINEAR"
   ]
  },
  {
   "cell_type": "code",
   "execution_count": null,
   "metadata": {},
   "outputs": [],
   "source": [
    "class NARXRecurrent(RecurrentConfig):\n",
    "    \"\"\"\n",
    "    This class implements a process for converting a standard neural network\n",
    "    into a NARX (Non-Linear AutoRegressive with eXogenous inputs) recurrent\n",
    "    network.\n",
    "\n",
    "    It also contains some modifications suggested by Narendra and Parthasathy\n",
    "    (1990).\n",
    "    \n",
    "    \"\"\"\n",
    "\n",
    "    def __init__(self, output_order, incoming_weight_from_output,\n",
    "                      input_order, incoming_weight_from_input):\n",
    "        \"\"\"\n",
    "        This function takes:\n",
    "            the output order, or number of copy levels of\n",
    "                output values,\n",
    "            the weight to apply to the incoming values from output nodes,\n",
    "            the input order, or number of copy levels of input values,\n",
    "            the weight to apply to the incoming values from input nodes\n",
    "\n",
    "        \"\"\"\n",
    "        RecurrentConfig.__init__(self)\n",
    "        self.existing_weight = 0.0\n",
    "        self._node_type = None\n",
    "\n",
    "        self.output_values = [output_order, incoming_weight_from_output]\n",
    "        self.input_values = [input_order, incoming_weight_from_input]\n",
    "\n",
    "    def get_source_nodes(self, neural_net):\n",
    "        \"\"\"\n",
    "        This function returns either the output nodes or input nodes depending\n",
    "        upon self._node_type.\n",
    "\n",
    "        \"\"\"\n",
    "\n",
    "        if self._node_type == NODE_OUTPUT:\n",
    "            return neural_net.layers[-1].get_nodes(self._node_type)\n",
    "        elif self._node_type == NODE_INPUT:\n",
    "            return neural_net.layers[0].get_nodes(self._node_type)\n",
    "\n",
    "    def apply_config(self, neural_net):\n",
    "        \"\"\"\n",
    "        This function first applies any parameters related to the output nodes\n",
    "        and then any with the input nodes.\n",
    "\n",
    "        \"\"\"\n",
    "\n",
    "        if self.output_values[0] > 0:\n",
    "            self._node_type = NODE_OUTPUT\n",
    "            self.copy_levels = self.output_values[0]\n",
    "            self.incoming_weight = self.output_values[1]\n",
    "\n",
    "            self._apply_config(neural_net)\n",
    "\n",
    "        if self.input_values[0] > 0:\n",
    "            self._node_type = NODE_INPUT\n",
    "            self.copy_levels = self.input_values[0]\n",
    "            self.incoming_weight = self.input_values[1]\n",
    "\n",
    "            self._apply_config(neural_net)"
   ]
  },
  {
   "cell_type": "code",
   "execution_count": null,
   "metadata": {},
   "outputs": [],
   "source": [
    "import random\n",
    "import math\n",
    "import numpy as np\n",
    "from pandas import read_csv\n",
    "import matplotlib \n",
    "import matplotlib.pyplot as plt\n",
    "from pyneurgen.recurrent import NARXRecurrent\n",
    "from pyneurgen.nodes import BiasNode, Connection"
   ]
  },
  {
   "cell_type": "code",
   "execution_count": null,
   "metadata": {},
   "outputs": [],
   "source": [
    "# first run load data\n",
    "trainX = numpy.reshape(trainX, (trainX.shape[0], 1, trainX.shape[1]))\n",
    "testX = numpy.reshape(testX, (testX.shape[0], 1, testX.shape[1]))\n",
    "trainY=numpy.reshape(trainY,(trainY.shape[0],1))\n",
    "testY=numpy.reshape(testY,(testY.shape[0],1))"
   ]
  },
  {
   "cell_type": "code",
   "execution_count": null,
   "metadata": {},
   "outputs": [],
   "source": [
    "net = NeuralNet()\n",
    "\n",
    "# Set the NARX architecture\n",
    "input_nodes = 2\n",
    "hidden_nodes = 10\n",
    "output_nodes = 2\n",
    "\n",
    "output_order = 3\n",
    "incoming_weight_from_output = .4\n",
    "input_order = 2\n",
    "incoming_weight_from_input = .6\n",
    "\n",
    "# constrain beginning weight (-0.9 to 0.9) and set learning rate\n",
    "net.set_random_constraint(.9)\n",
    "net.set_learnrate(.1)\n",
    "\n",
    "net.set_all_inputs(trainX)\n",
    "net.set_all_targets(trainY)\n",
    "\n",
    "length = len(trainX)\n",
    "learn_end_point = int(length * .8)\n",
    "\n",
    "net.set_learn_range(0, learn_end_point)\n",
    "net.set_test_range(learn_end_point + 1, length - 1)\n",
    "\n",
    "net.init_layers(input_nodes, [hidden_nodes], output_nodes,\n",
    "    NARXRecurrent(\n",
    "        output_order,\n",
    "        incoming_weight_from_output,\n",
    "        input_order,\n",
    "        incoming_weight_from_input))\n",
    "\n",
    "net.randomize_network()"
   ]
  },
  {
   "cell_type": "code",
   "execution_count": null,
   "metadata": {},
   "outputs": [],
   "source": [
    "# set the activation function\n",
    "net.layers[1].set_activation_type('tanh')\n",
    "\n",
    "# set number of epochs, start learning\n",
    "num_epochs = 200\n",
    "net.learn(epochs=num_epochs, show_epoch_results=True,\n",
    "    random_testing=False)\n",
    "\n",
    "# print loss\n",
    "mse = net.test()\n",
    "print \"test mse = \", mse"
   ]
  }
 ],
 "metadata": {
  "kernelspec": {
   "display_name": "Python 3",
   "language": "python",
   "name": "python3"
  },
  "language_info": {
   "codemirror_mode": {
    "name": "ipython",
    "version": 3
   },
   "file_extension": ".py",
   "mimetype": "text/x-python",
   "name": "python",
   "nbconvert_exporter": "python",
   "pygments_lexer": "ipython3",
   "version": "3.6.4"
  }
 },
 "nbformat": 4,
 "nbformat_minor": 2
}
